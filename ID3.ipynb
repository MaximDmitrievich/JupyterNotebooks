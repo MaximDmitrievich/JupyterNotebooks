{
 "cells": [
  {
   "cell_type": "markdown",
   "metadata": {},
   "source": [
    "# ID3"
   ]
  },
  {
   "cell_type": "code",
   "execution_count": 1,
   "metadata": {},
   "outputs": [],
   "source": [
    "import pandas as pd\n",
    "import numpy as np\n",
    "from pprint import pprint\n",
    "import random"
   ]
  },
  {
   "cell_type": "code",
   "execution_count": 2,
   "metadata": {},
   "outputs": [],
   "source": [
    "dataset = pd.read_csv('C:\\\\Users\\\\mdere\\\\source\\\\repos\\\\IT-master\\\\Python\\\\Code\\\\Example_4_Tree\\\\dataset.csv')\n",
    "dataset=dataset.drop('Name',axis=1)"
   ]
  },
  {
   "cell_type": "code",
   "execution_count": 3,
   "metadata": {},
   "outputs": [
    {
     "name": "stdout",
     "output_type": "stream",
     "text": [
      "        TextEditor ProgrammingLanguage   Drink       OS\n",
      "0              vim              Python     tea  windows\n",
      "1          jupyter              Kotlin  coffee  windows\n",
      "2          jupyter              Python     tea      mac\n",
      "3          jupyter              Python     tea      mac\n",
      "4          jupyter              Python  coffee      mac\n",
      "5          jupyter              Python  coffee      mac\n",
      "6          jupyter              Python  coffee  windows\n",
      "7              vim              Python     tea     unix\n",
      "8          jupyter              Python  coffee  windows\n",
      "9   Android Studio              Kotlin     tea  windows\n",
      "10         jupyter              Python     tea  windows\n",
      "11         pycharm              Python  coffee  windows\n",
      "12          matlab              matlab  coffee  windows\n",
      "13         pycharm              Python     tea     unix\n",
      "14         pycharm                Java     tea  windows\n",
      "15       vs studio                 c++     tea  windows\n",
      "16  vs studio code                  c#  coffee     unix\n",
      "17  vs studio code                 c++  coffee  windows\n",
      "18       vs studio                 c++     tea     unix\n",
      "19         pycharm                   c     tea  windows\n"
     ]
    }
   ],
   "source": [
    "print(dataset)"
   ]
  },
  {
   "cell_type": "code",
   "execution_count": 4,
   "metadata": {},
   "outputs": [],
   "source": [
    "def entropy(target_col):\n",
    "    elements,counts = np.unique(target_col,return_counts = True)\n",
    "    entropy = np.sum([(-counts[i] / np.sum(counts)) * np.log2(counts[i] / np.sum(counts)) for i in range(len(elements))])\n",
    "    return entropy"
   ]
  },
  {
   "cell_type": "code",
   "execution_count": 5,
   "metadata": {},
   "outputs": [
    {
     "data": {
      "text/plain": [
       "2.0814963295286755"
      ]
     },
     "execution_count": 5,
     "metadata": {},
     "output_type": "execute_result"
    }
   ],
   "source": [
    "entropy(dataset['ProgrammingLanguage'])"
   ]
  },
  {
   "cell_type": "code",
   "execution_count": 6,
   "metadata": {},
   "outputs": [],
   "source": [
    "def InfoGain(data,split_attribute_name,target_name=\"class\"):\n",
    "    total_entropy = entropy(data[target_name])\n",
    "    \n",
    "    vals,counts= np.unique(data[split_attribute_name],return_counts=True)\n",
    "    \n",
    "    Weighted_Entropy = np.sum([(counts[i]/np.sum(counts))*entropy(data.where(data[split_attribute_name]==vals[i]).dropna()[target_name]) for i in range(len(vals))])\n",
    "    \n",
    "    Information_Gain = total_entropy - Weighted_Entropy\n",
    "    return Information_Gain"
   ]
  },
  {
   "cell_type": "code",
   "execution_count": 7,
   "metadata": {},
   "outputs": [
    {
     "data": {
      "text/plain": [
       "0.4110008528178223"
      ]
     },
     "execution_count": 7,
     "metadata": {},
     "output_type": "execute_result"
    }
   ],
   "source": [
    "InfoGain(dataset, 'ProgrammingLanguage', 'OS')"
   ]
  },
  {
   "cell_type": "code",
   "execution_count": 8,
   "metadata": {},
   "outputs": [],
   "source": [
    "def ID3(data, originaldata, features, target_attribute_name=\"class\", parent_node_class = None):\n",
    "    if len(np.unique(data[target_attribute_name])) <= 1:\n",
    "        return np.unique(data[target_attribute_name])[0]\n",
    "    elif len(data)==0:\n",
    "        return np.unique(originaldata[target_attribute_name])[np.argmax(np.unique(originaldata[target_attribute_name],return_counts=True)[1])]\n",
    "    elif len(features) ==0:\n",
    "        return parent_node_class\n",
    "    else:\n",
    "        parent_node_class = np.unique(data[target_attribute_name])[np.argmax(np.unique(data[target_attribute_name],return_counts=True)[1])]\n",
    "        item_values = [InfoGain(data,feature,target_attribute_name) for feature in features] #Return the information gain values for the features in the dataset\n",
    "        best_feature_index = np.argmax(item_values)\n",
    "        best_feature = features[best_feature_index]\n",
    "        \n",
    "        tree = {best_feature:{}}\n",
    "        \n",
    "        \n",
    "        features = [i for i in features if i != best_feature]\n",
    "        \n",
    "        for value in np.unique(data[best_feature]):\n",
    "            value = value\n",
    "            sub_data = data.where(data[best_feature] == value).dropna()\n",
    "            \n",
    "            subtree = ID3(sub_data,dataset,features,target_attribute_name,parent_node_class)\n",
    "            \n",
    "            tree[best_feature][value] = subtree\n",
    "            \n",
    "        return(tree)   "
   ]
  },
  {
   "cell_type": "code",
   "execution_count": 9,
   "metadata": {},
   "outputs": [],
   "source": [
    "def train_test_split(dataset, train_weight):\n",
    "    weight = int(len(dataset) * train_weight)\n",
    "    dataset = dataset.sample(frac=1)\n",
    "    training_data = dataset[:weight].reset_index(drop=True)\n",
    "    testing_data = dataset[weight:].reset_index(drop=True)\n",
    "    return training_data,testing_data\n",
    "training_data, testing_data = train_test_split(dataset, 0.7)"
   ]
  },
  {
   "cell_type": "code",
   "execution_count": 10,
   "metadata": {},
   "outputs": [
    {
     "name": "stdout",
     "output_type": "stream",
     "text": [
      "        TextEditor ProgrammingLanguage   Drink       OS\n",
      "0        vs studio                 c++     tea     unix\n",
      "1   vs studio code                 c++  coffee  windows\n",
      "2              vim              Python     tea     unix\n",
      "3        vs studio                 c++     tea  windows\n",
      "4          jupyter              Python     tea      mac\n",
      "5          jupyter              Python     tea  windows\n",
      "6   Android Studio              Kotlin     tea  windows\n",
      "7          jupyter              Kotlin  coffee  windows\n",
      "8          jupyter              Python  coffee  windows\n",
      "9          pycharm                   c     tea  windows\n",
      "10          matlab              matlab  coffee  windows\n",
      "11         pycharm              Python     tea     unix\n",
      "12         jupyter              Python  coffee      mac\n",
      "13             vim              Python     tea  windows\n"
     ]
    }
   ],
   "source": [
    "print(training_data)"
   ]
  },
  {
   "cell_type": "code",
   "execution_count": 11,
   "metadata": {},
   "outputs": [
    {
     "name": "stdout",
     "output_type": "stream",
     "text": [
      "       TextEditor ProgrammingLanguage   Drink       OS\n",
      "0         pycharm              Python  coffee  windows\n",
      "1         jupyter              Python  coffee      mac\n",
      "2         pycharm                Java     tea  windows\n",
      "3         jupyter              Python  coffee  windows\n",
      "4  vs studio code                  c#  coffee     unix\n",
      "5         jupyter              Python     tea      mac\n"
     ]
    }
   ],
   "source": [
    "print(testing_data)"
   ]
  },
  {
   "cell_type": "code",
   "execution_count": 12,
   "metadata": {},
   "outputs": [
    {
     "data": {
      "text/plain": [
       "Index(['TextEditor', 'ProgrammingLanguage', 'Drink'], dtype='object')"
      ]
     },
     "execution_count": 12,
     "metadata": {},
     "output_type": "execute_result"
    }
   ],
   "source": [
    "training_data.columns[:-1]"
   ]
  },
  {
   "cell_type": "code",
   "execution_count": 15,
   "metadata": {},
   "outputs": [],
   "source": [
    "tree = ID3(training_data, training_data, training_data.columns[:-1], 'OS')"
   ]
  },
  {
   "cell_type": "code",
   "execution_count": 16,
   "metadata": {},
   "outputs": [
    {
     "name": "stdout",
     "output_type": "stream",
     "text": [
      "{'TextEditor': {'Android Studio': 'windows',\n",
      "                'jupyter': {'ProgrammingLanguage': {'Kotlin': 'windows',\n",
      "                                                    'Python': {'Drink': {'coffee': 'mac',\n",
      "                                                                         'tea': 'mac'}}}},\n",
      "                'matlab': 'windows',\n",
      "                'pycharm': {'ProgrammingLanguage': {'Python': 'unix',\n",
      "                                                    'c': 'windows'}},\n",
      "                'vim': {'ProgrammingLanguage': {'Python': {'Drink': {'tea': 'unix'}}}},\n",
      "                'vs studio': {'ProgrammingLanguage': {'c++': {'Drink': {'tea': 'unix'}}}},\n",
      "                'vs studio code': 'windows'}}\n"
     ]
    }
   ],
   "source": [
    "pprint(tree)"
   ]
  },
  {
   "cell_type": "code",
   "execution_count": 17,
   "metadata": {},
   "outputs": [],
   "source": [
    "def predict(query, tree, default = 1):\n",
    "    for key in list(query.keys()):\n",
    "        if key in list(tree.keys()):\n",
    "            try:\n",
    "                result = tree[key][query[key]] \n",
    "            except:\n",
    "                return default\n",
    "            result = tree[key][query[key]]\n",
    "            if isinstance(result,dict):\n",
    "                return predict(query,result)\n",
    "            else:\n",
    "                return result"
   ]
  },
  {
   "cell_type": "code",
   "execution_count": 18,
   "metadata": {},
   "outputs": [],
   "source": [
    "def test(data, tree, target_attribute_name):\n",
    "    queries = data.iloc[:,:-1].to_dict(orient = \"records\")\n",
    "    predicted = pd.DataFrame(columns=[\"predicted\"]) \n",
    "    for i in range(len(data)):\n",
    "        predicted.loc[i,\"predicted\"] = predict(queries[i],tree,1.0) \n",
    "    print('The prediction accuracy is: ',(np.sum(predicted[\"predicted\"] == data[target_attribute_name])/len(data))*100,'%')"
   ]
  },
  {
   "cell_type": "code",
   "execution_count": 20,
   "metadata": {},
   "outputs": [
    {
     "name": "stdout",
     "output_type": "stream",
     "text": [
      "The prediction accuracy is:  33.33333333333333 %\n"
     ]
    }
   ],
   "source": [
    "test(testing_data, tree, 'OS')"
   ]
  },
  {
   "cell_type": "code",
   "execution_count": null,
   "metadata": {},
   "outputs": [],
   "source": []
  }
 ],
 "metadata": {
  "kernelspec": {
   "display_name": "Python 3",
   "language": "python",
   "name": "python3"
  },
  "language_info": {
   "codemirror_mode": {
    "name": "ipython",
    "version": 3
   },
   "file_extension": ".py",
   "mimetype": "text/x-python",
   "name": "python",
   "nbconvert_exporter": "python",
   "pygments_lexer": "ipython3",
   "version": "3.7.3"
  }
 },
 "nbformat": 4,
 "nbformat_minor": 2
}
